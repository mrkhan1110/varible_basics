{
 "cells": [
  {
   "cell_type": "markdown",
   "id": "31c6f741-4df2-4515-83d0-8e9095f02f8d",
   "metadata": {},
   "source": [
    "Q1) Write a python program to add two numbers."
   ]
  },
  {
   "cell_type": "code",
   "execution_count": 1,
   "id": "1e89cced-f1bb-4e8a-8acc-6ecddcd3c368",
   "metadata": {},
   "outputs": [],
   "source": [
    "a = 35\n",
    "b = 72"
   ]
  },
  {
   "cell_type": "code",
   "execution_count": 2,
   "id": "3f98c558-11b2-4e65-a17b-75aaaca935a5",
   "metadata": {},
   "outputs": [
    {
     "name": "stdout",
     "output_type": "stream",
     "text": [
      "The sum of a and b is :-  107\n"
     ]
    }
   ],
   "source": [
    "print(\"The sum of a and b is :- \" , a+b)"
   ]
  },
  {
   "cell_type": "markdown",
   "id": "dd8cd6f9-590a-46d8-993a-7030290527aa",
   "metadata": {},
   "source": [
    "Q2) Write a python program to find remainder when a number is divided by 2."
   ]
  },
  {
   "cell_type": "code",
   "execution_count": 3,
   "id": "ec3194d7-aa81-4a0e-8641-a166340c5784",
   "metadata": {},
   "outputs": [
    {
     "name": "stdout",
     "output_type": "stream",
     "text": [
      "Remainder is :  0\n"
     ]
    }
   ],
   "source": [
    "a = 300\n",
    "b = 15\n",
    "print(\"Remainder is : \" , a%b)"
   ]
  },
  {
   "cell_type": "markdown",
   "id": "b16a19e6-ee7c-4a44-b21b-3ae2d6fa68c5",
   "metadata": {},
   "source": [
    "Q3) Check the type of variable assigned using input() function. "
   ]
  },
  {
   "cell_type": "code",
   "execution_count": 4,
   "id": "6ff7e61b-0b0f-41fc-90f1-8ef58fb3b882",
   "metadata": {},
   "outputs": [
    {
     "name": "stdin",
     "output_type": "stream",
     "text": [
      "Enter Name:  Abdul Kalam\n"
     ]
    },
    {
     "data": {
      "text/plain": [
       "str"
      ]
     },
     "execution_count": 4,
     "metadata": {},
     "output_type": "execute_result"
    }
   ],
   "source": [
    "name = input(\"Enter Name: \")\n",
    "type(name)"
   ]
  },
  {
   "cell_type": "markdown",
   "id": "48fc9400-36ce-4a2a-868e-93f90a4414f7",
   "metadata": {},
   "source": [
    "Q4) Use Comparison operators to find out whether a given variable A is greater then B or not\n",
    "\n",
    "\n",
    "Take a = 56 , b = 67"
   ]
  },
  {
   "cell_type": "code",
   "execution_count": 5,
   "id": "ceff6eeb-38a6-4ece-97ef-a34d7cd1d5b6",
   "metadata": {},
   "outputs": [],
   "source": [
    "a = 56\n",
    "b = 67"
   ]
  },
  {
   "cell_type": "code",
   "execution_count": 6,
   "id": "c9470a3c-d480-45d2-b003-c870e45ac163",
   "metadata": {},
   "outputs": [
    {
     "name": "stdout",
     "output_type": "stream",
     "text": [
      "False\n"
     ]
    }
   ],
   "source": [
    "print(a>b)"
   ]
  },
  {
   "cell_type": "markdown",
   "id": "9954b9e5-d663-465f-9372-fa2d60d38533",
   "metadata": {},
   "source": [
    "Q5) Write  python program to find average of two numbers entered by the user."
   ]
  },
  {
   "cell_type": "code",
   "execution_count": null,
   "id": "76024381-db94-43cb-a18f-9d9a40862f7a",
   "metadata": {},
   "outputs": [],
   "source": [
    "num1 = int(input(\"Enter First number :\"))\n",
    "num2 = int(input(\"Enter Second number : \"))"
   ]
  },
  {
   "cell_type": "code",
   "execution_count": null,
   "id": "9365168c-2b7b-4c6d-b087-74f0024c4247",
   "metadata": {},
   "outputs": [],
   "source": []
  }
 ],
 "metadata": {
  "kernelspec": {
   "display_name": "Python 3 (ipykernel)",
   "language": "python",
   "name": "python3"
  },
  "language_info": {
   "codemirror_mode": {
    "name": "ipython",
    "version": 3
   },
   "file_extension": ".py",
   "mimetype": "text/x-python",
   "name": "python",
   "nbconvert_exporter": "python",
   "pygments_lexer": "ipython3",
   "version": "3.10.8"
  }
 },
 "nbformat": 4,
 "nbformat_minor": 5
}
